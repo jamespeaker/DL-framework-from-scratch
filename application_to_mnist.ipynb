{
 "cells": [
  {
   "cell_type": "code",
   "execution_count": 11,
   "metadata": {},
   "outputs": [
    {
     "name": "stdout",
     "output_type": "stream",
     "text": [
      "Epoch 1. Training loss: 0.4811, training accuracy: 0.904, test loss: 0.4616, test accuracy: 0.9052.\n",
      "Epoch 2. Training loss: 0.5359, training accuracy: 0.9151, test loss: 0.5178, test accuracy: 0.9151.\n",
      "Epoch 3. Training loss: 0.565, training accuracy: 0.922, test loss: 0.5477, test accuracy: 0.921.\n"
     ]
    }
   ],
   "source": [
    "from jamesnet.activations import Softmax\n",
    "from jamesnet.model import Model\n",
    "from jamesnet.layers import Dense\n",
    "from jamesnet.utils import train, get_preprocessed_mnist\n",
    "\n",
    "[[X_train, y_train], [X_test, y_test]] = get_preprocessed_mnist()\n",
    "\n",
    "num_pixels = X_train.shape[1]\n",
    "num_classes = y_train.shape[1]\n",
    "\n",
    "classifier = Model(\n",
    "    [\n",
    "        Dense(num_pixels, input_shape=num_pixels),\n",
    "        Dense(num_classes),\n",
    "        Softmax()\n",
    "    ]\n",
    ")\n",
    "\n",
    "classifier.compile_model(\"categorical_crossentropy\", learning_rate=0.01)\n",
    "\n",
    "\n",
    "train(model=classifier,\n",
    "      num_epochs=3,\n",
    "      batch_size=1,\n",
    "      dataset=[[X_train, y_train], [X_test, y_test]]\n",
    ")"
   ]
  }
 ],
 "metadata": {
  "kernelspec": {
   "display_name": "Python 3",
   "language": "python",
   "name": "python3"
  },
  "language_info": {
   "codemirror_mode": {
    "name": "ipython",
    "version": 3
   },
   "file_extension": ".py",
   "mimetype": "text/x-python",
   "name": "python",
   "nbconvert_exporter": "python",
   "pygments_lexer": "ipython3",
   "version": "3.7.1"
  }
 },
 "nbformat": 4,
 "nbformat_minor": 4
}

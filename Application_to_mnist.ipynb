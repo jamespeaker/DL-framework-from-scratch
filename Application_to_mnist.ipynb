{
 "cells": [
  {
   "cell_type": "code",
   "execution_count": null,
   "metadata": {},
   "outputs": [],
   "source": [
    "%cd \"path\\to\\repo\""
   ]
  },
  {
   "cell_type": "code",
   "execution_count": null,
   "metadata": {},
   "outputs": [],
   "source": [
    "from Activations import Softmax\n",
    "from Model import Model\n",
    "from Layers import Dense\n",
    "from Utils import train, get_preprocessed_mnist\n",
    "\n",
    "[[X_train, y_train], [X_test, y_test]] = get_preprocessed_mnist()\n",
    "\n",
    "num_pixels = X_train.shape[1]\n",
    "num_classes = y_train.shape[1]\n",
    "\n",
    "model = Model(\n",
    "    [\n",
    "        Dense(num_pixels, input_shape=num_pixels),\n",
    "        Dense(num_classes),\n",
    "        Softmax()\n",
    "    ]\n",
    ")\n",
    "\n",
    "model.compile_model(\"categorical_crossentropy\", 0.01)\n",
    "\n",
    "\n",
    "train(model=model,\n",
    "      num_epochs=10,\n",
    "      batch_size=1,\n",
    "      dataset=[[X_train, y_train], [X_test, y_test]]\n",
    ")"
   ]
  }
 ],
 "metadata": {
  "kernelspec": {
   "display_name": "Python 3",
   "language": "python",
   "name": "python3"
  },
  "language_info": {
   "codemirror_mode": {
    "name": "ipython",
    "version": 3
   },
   "file_extension": ".py",
   "mimetype": "text/x-python",
   "name": "python",
   "nbconvert_exporter": "python",
   "pygments_lexer": "ipython3",
   "version": "3.7.1"
  }
 },
 "nbformat": 4,
 "nbformat_minor": 4
}
